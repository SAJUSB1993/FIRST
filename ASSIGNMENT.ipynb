{
 "cells": [
  {
   "cell_type": "markdown",
   "id": "d4db2c8a",
   "metadata": {},
   "source": [
    "1. WAP to take 10 numbers from a user and store them in a list."
   ]
  },
  {
   "cell_type": "code",
   "execution_count": 1,
   "id": "e8ef902e",
   "metadata": {},
   "outputs": [
    {
     "name": "stdout",
     "output_type": "stream",
     "text": [
      "Enter number of elements : 1\n",
      "1\n"
     ]
    }
   ],
   "source": [
    "lst=[]\n",
    "n = int(input(\"Enter number of elements : \"))\n",
    "for x in range(0,n):\n",
    "   a=int(input())\n",
    "   lst.append(a)  "
   ]
  },
  {
   "cell_type": "code",
   "execution_count": 2,
   "id": "0643a0a0",
   "metadata": {},
   "outputs": [
    {
     "name": "stdout",
     "output_type": "stream",
     "text": [
      "[1]\n"
     ]
    }
   ],
   "source": [
    "print(lst)"
   ]
  },
  {
   "cell_type": "markdown",
   "id": "b974c53f",
   "metadata": {},
   "source": [
    "2. Display numbers divisible by 5 from a list."
   ]
  },
  {
   "cell_type": "code",
   "execution_count": 3,
   "id": "b9ab7616",
   "metadata": {},
   "outputs": [],
   "source": [
    "for i in lst:\n",
    "    if(i%5==0):\n",
    "        print(i)\n"
   ]
  },
  {
   "cell_type": "markdown",
   "id": "4e4db223",
   "metadata": {},
   "source": [
    "3. WAP to calculate the count of elements in a string taken as input from the user."
   ]
  },
  {
   "cell_type": "code",
   "execution_count": 4,
   "id": "879e7d2e",
   "metadata": {},
   "outputs": [
    {
     "name": "stdout",
     "output_type": "stream",
     "text": [
      "Enter the string1\n",
      "Total number of characters in a string: 1\n"
     ]
    }
   ],
   "source": [
    "string=input('Enter the string')  \n",
    "count = 0 \n",
    "   \n",
    "#Counts each character except space  \n",
    "for i in range(0, len(string)):  \n",
    "    if(string[i] != ' '):  \n",
    "        count = count + 1;  \n",
    "   \n",
    "#Displays the total number of characters present in the given string  \n",
    "print('Total number of characters in a string:',count)"
   ]
  },
  {
   "cell_type": "markdown",
   "id": "6fe94793",
   "metadata": {},
   "source": [
    "4. WAP to check if a number is even or odd where number is taken as input."
   ]
  },
  {
   "cell_type": "code",
   "execution_count": 5,
   "id": "d5d12fd7",
   "metadata": {},
   "outputs": [
    {
     "name": "stdout",
     "output_type": "stream",
     "text": [
      "Enter the number1\n",
      "odd\n"
     ]
    }
   ],
   "source": [
    "number=int(input('Enter the number'))\n",
    "a=number%2\n",
    "if(a==0):\n",
    "    print('Éven')\n",
    "else:\n",
    "    print('odd')"
   ]
  },
  {
   "cell_type": "markdown",
   "id": "5a39d471",
   "metadata": {},
   "source": [
    "5. WAP to reverse a string taken as input from the user"
   ]
  },
  {
   "cell_type": "code",
   "execution_count": 6,
   "id": "5013ea99",
   "metadata": {},
   "outputs": [
    {
     "name": "stdout",
     "output_type": "stream",
     "text": [
      "enter the string1\n",
      "The original string is :  1\n",
      "The reversed string is :  1\n"
     ]
    }
   ],
   "source": [
    "def reverse(s):\n",
    "    str = \"\"\n",
    "    for i in s:\n",
    "        str = i + str\n",
    "    return str\n",
    "  \n",
    "s=input('enter the string')\n",
    "  \n",
    "print(\"The original string is : \", s)  \n",
    "print(\"The reversed string is : \", reverse(s))\n"
   ]
  },
  {
   "cell_type": "markdown",
   "id": "58589b7d",
   "metadata": {},
   "source": [
    "6. WAP to reverse all the strings present in a list and save them in a new list."
   ]
  },
  {
   "cell_type": "code",
   "execution_count": 7,
   "id": "0e586b1f",
   "metadata": {},
   "outputs": [
    {
     "name": "stdout",
     "output_type": "stream",
     "text": [
      "Enter number of elements : 11\n",
      "1\n",
      "1\n",
      "1\n",
      "1\n",
      "1\n",
      "\n",
      "\n",
      "\n",
      "\n",
      "\n",
      "\n",
      "['1', '1', '1', '1', '1', '', '', '', '', '', '']\n",
      "['1', '1', '1', '1', '1', '', '', '', '', '', '']\n"
     ]
    }
   ],
   "source": [
    "def reverse(s):\n",
    "    str = \"\"\n",
    "    for i in s:\n",
    "        str = i + str\n",
    "    return str\n",
    "lst=[]\n",
    "n = int(input(\"Enter number of elements : \"))\n",
    "for x in range(0,n):\n",
    "   b=str(input())\n",
    "   lst.append(b)\n",
    "rev=[]\n",
    "for x in lst:\n",
    "    for y in range(0,n):\n",
    "        c=reverse(x)\n",
    "    rev.append(c)\n",
    "    \n",
    "print(lst)\n",
    "print(rev)"
   ]
  },
  {
   "cell_type": "code",
   "execution_count": null,
   "id": "6371c282",
   "metadata": {},
   "outputs": [],
   "source": []
  },
  {
   "cell_type": "markdown",
   "id": "d0259c77",
   "metadata": {},
   "source": [
    "7. Print characters from a string that are present at an even index number"
   ]
  },
  {
   "cell_type": "code",
   "execution_count": 8,
   "id": "5e207eb6",
   "metadata": {},
   "outputs": [
    {
     "name": "stdout",
     "output_type": "stream",
     "text": [
      "enter the string\n"
     ]
    }
   ],
   "source": [
    "s=str(input('enter the string'))\n",
    "n=len(s)\n",
    "for x in range(0,n):\n",
    "    if(x%2==0):\n",
    "        print(s[x])"
   ]
  },
  {
   "cell_type": "markdown",
   "id": "9067395e",
   "metadata": {},
   "source": [
    "8. Check if the first and last number of a list is the same"
   ]
  },
  {
   "cell_type": "markdown",
   "id": "d69314f9",
   "metadata": {},
   "source": [
    "### "
   ]
  },
  {
   "cell_type": "code",
   "execution_count": 9,
   "id": "9e7c0411",
   "metadata": {},
   "outputs": [
    {
     "name": "stdout",
     "output_type": "stream",
     "text": [
      "Enter number of elements : \n"
     ]
    },
    {
     "ename": "ValueError",
     "evalue": "invalid literal for int() with base 10: ''",
     "output_type": "error",
     "traceback": [
      "\u001b[1;31m---------------------------------------------------------------------------\u001b[0m",
      "\u001b[1;31mValueError\u001b[0m                                Traceback (most recent call last)",
      "\u001b[1;32m~\\AppData\\Local\\Temp\\ipykernel_31240\\124806531.py\u001b[0m in \u001b[0;36m<module>\u001b[1;34m\u001b[0m\n\u001b[0;32m      1\u001b[0m \u001b[0mlst\u001b[0m\u001b[1;33m=\u001b[0m\u001b[1;33m[\u001b[0m\u001b[1;33m]\u001b[0m\u001b[1;33m\u001b[0m\u001b[1;33m\u001b[0m\u001b[0m\n\u001b[1;32m----> 2\u001b[1;33m \u001b[0mn\u001b[0m \u001b[1;33m=\u001b[0m \u001b[0mint\u001b[0m\u001b[1;33m(\u001b[0m\u001b[0minput\u001b[0m\u001b[1;33m(\u001b[0m\u001b[1;34m\"Enter number of elements : \"\u001b[0m\u001b[1;33m)\u001b[0m\u001b[1;33m)\u001b[0m\u001b[1;33m\u001b[0m\u001b[1;33m\u001b[0m\u001b[0m\n\u001b[0m\u001b[0;32m      3\u001b[0m \u001b[1;32mfor\u001b[0m \u001b[0mx\u001b[0m \u001b[1;32min\u001b[0m \u001b[0mrange\u001b[0m\u001b[1;33m(\u001b[0m\u001b[1;36m0\u001b[0m\u001b[1;33m,\u001b[0m\u001b[0mn\u001b[0m\u001b[1;33m)\u001b[0m\u001b[1;33m:\u001b[0m\u001b[1;33m\u001b[0m\u001b[1;33m\u001b[0m\u001b[0m\n\u001b[0;32m      4\u001b[0m    \u001b[0ma\u001b[0m\u001b[1;33m=\u001b[0m\u001b[0minput\u001b[0m\u001b[1;33m(\u001b[0m\u001b[1;33m)\u001b[0m\u001b[1;33m\u001b[0m\u001b[1;33m\u001b[0m\u001b[0m\n\u001b[0;32m      5\u001b[0m    \u001b[0mlst\u001b[0m\u001b[1;33m.\u001b[0m\u001b[0mappend\u001b[0m\u001b[1;33m(\u001b[0m\u001b[0ma\u001b[0m\u001b[1;33m)\u001b[0m\u001b[1;33m\u001b[0m\u001b[1;33m\u001b[0m\u001b[0m\n",
      "\u001b[1;31mValueError\u001b[0m: invalid literal for int() with base 10: ''"
     ]
    }
   ],
   "source": [
    "lst=[]\n",
    "n = int(input(\"Enter number of elements : \"))\n",
    "for x in range(0,n):\n",
    "   a=input()\n",
    "   lst.append(a)  \n",
    "if lst[0] == lst[-1]:\n",
    "    print('Result is True')\n",
    "else:\n",
    "    print('Result is False')"
   ]
  },
  {
   "cell_type": "markdown",
   "id": "434c3f65",
   "metadata": {},
   "source": [
    "\n",
    "9. Calculate income tax for the input income by adhering to the Indian rules."
   ]
  },
  {
   "cell_type": "code",
   "execution_count": null,
   "id": "a63cd6fe",
   "metadata": {},
   "outputs": [],
   "source": [
    "def calculate(amount, percent):\n",
    "    return (amount * percent) / 100\n",
    "\n",
    "total_income = float(input(\"What's your annual income\"))\n",
    "\n",
    "    \n",
    "if total_income <= 250000:\n",
    "     tax=0\n",
    "elif total_income <= 500000:\n",
    "     tax=calculate(total_income - \n",
    "                         250000, 5)\n",
    "elif total_income <= 750000:\n",
    "     tax=calculate(total_income - \n",
    "                         500000, 10) + 12500\n",
    "elif total_income <= 1000000:\n",
    "    tax=calculate(total_income - \n",
    "                         750000, 15) + 37500\n",
    "elif total_income <= 1250000:\n",
    "    tax=calculate(total_income - \n",
    "                         1000000, 20) + 75000\n",
    "elif total_income <= 1500000:\n",
    "    tax=calculate(total_income - \n",
    "                         1250000, 25) + 125000\n",
    "else:\n",
    "    tax=calculate(total_income - \n",
    "                         1500000, 30) + 187500\n",
    "print(f\"Total tax applicable at \\\n",
    "                    ₹{total_income} is ₹{tax}\")"
   ]
  },
  {
   "cell_type": "markdown",
   "id": "f139578b",
   "metadata": {},
   "source": [
    "10. Write a Python program to check whether a string starts with vowel or not."
   ]
  },
  {
   "cell_type": "code",
   "execution_count": null,
   "id": "93ac9462",
   "metadata": {},
   "outputs": [],
   "source": [
    "s=str(input('enter the string'))\n",
    "if(s[0]=='a'):\n",
    "    print('vowel')\n",
    "elif(s[0]=='é'):\n",
    "    print('vowel')\n",
    "elif(s[0]=='i'):\n",
    "    print('vowel')\n",
    "elif(s[0]=='o'):\n",
    "    print('vowel')\n",
    "elif(s[0]=='u'):\n",
    "    print('vowel')\n"
   ]
  },
  {
   "cell_type": "markdown",
   "id": "7bd5a5c0",
   "metadata": {},
   "source": [
    "\n",
    "11. Write a Python program to check if all the characters of a string are vowel or not."
   ]
  },
  {
   "cell_type": "code",
   "execution_count": null,
   "id": "66f73097",
   "metadata": {},
   "outputs": [],
   "source": [
    "s=str(input('enter the string'))\n",
    "n=len(s)\n",
    "c=0\n",
    "for a in s:    \n",
    "    if(a=='a'):\n",
    "        c+=1\n",
    "    elif(a=='e'):\n",
    "        c+=1\n",
    "    elif(a=='i'):\n",
    "        c+=1\n",
    "    elif(a=='o'):\n",
    "        c+=1\n",
    "    elif(a=='u'):\n",
    "        c+=1\n",
    "if(c==n):\n",
    "    print('All characters are vowels')\n",
    "else:\n",
    "    print('Not vowels')\n",
    "print(c)\n",
    "print(n)"
   ]
  },
  {
   "cell_type": "markdown",
   "id": "b3ce762b",
   "metadata": {},
   "source": [
    "\n",
    "12. WAP to calculate percentage of a student through 5 subjects. Take marks as input from the user."
   ]
  },
  {
   "cell_type": "code",
   "execution_count": null,
   "id": "30e3a11b",
   "metadata": {},
   "outputs": [],
   "source": [
    "lst=[]\n",
    "n = int(input(\"Enter number of subjects : \"))\n",
    "o=int(input(\"Mark out of\"))\n",
    "for x in range(0,n):\n",
    "   a=int(input('Énter mark'))\n",
    "   lst.append(a)  \n",
    "percentage=sum(lst)/(len(lst)*o)\n",
    "print('total percentage',\"%.1f\"%percentage)"
   ]
  },
  {
   "cell_type": "markdown",
   "id": "4151cae2",
   "metadata": {},
   "source": [
    "13. WAP to convert '95.3' taken as input from the user into float value."
   ]
  },
  {
   "cell_type": "code",
   "execution_count": null,
   "id": "262daf7d",
   "metadata": {},
   "outputs": [],
   "source": [
    "a='95.3'\n",
    "type(a)\n",
    "a=float(a)\n",
    "type(b)"
   ]
  },
  {
   "cell_type": "markdown",
   "id": "d82715f3",
   "metadata": {},
   "source": [
    "14. WAP to count the number of zeroes present in a number taken as input from the user."
   ]
  },
  {
   "cell_type": "code",
   "execution_count": null,
   "id": "923dcdcf",
   "metadata": {},
   "outputs": [],
   "source": [
    "a=int(input('Enter the number'))\n",
    "count=0\n",
    "while(a!=0):\n",
    "    b=a%10\n",
    "    if(b==0):\n",
    "        count+=1\n",
    "    a=a/10\n",
    "print(count)   "
   ]
  },
  {
   "cell_type": "markdown",
   "id": "e7ec9f93",
   "metadata": {},
   "source": [
    "15. WAP to calculate the surface area of a triangle. Take the required values as input."
   ]
  },
  {
   "cell_type": "code",
   "execution_count": null,
   "id": "50767e1d",
   "metadata": {
    "scrolled": true
   },
   "outputs": [],
   "source": [
    "b=int(input('enter base'))\n",
    "h=int(input('enter height'))\n",
    "area=(b*h)/2\n",
    "print('area',area)"
   ]
  },
  {
   "cell_type": "markdown",
   "id": "14c2e0eb",
   "metadata": {},
   "source": [
    "16. WAP to concatenate two lists index-wise and save the result in a 3rd list."
   ]
  },
  {
   "cell_type": "code",
   "execution_count": null,
   "id": "708779d2",
   "metadata": {},
   "outputs": [],
   "source": [
    "list1=[]\n",
    "n = int(input(\"Enter number of elements : \"))\n",
    "for x in range(0,n):\n",
    "   a=str(input())\n",
    "   list1.append(a)\n",
    "list2=[]\n",
    "n = int(input(\"Enter number of elements : \"))\n",
    "for x in range(0,n):\n",
    "   a=str(input())\n",
    "   list2.append(a)  \n",
    "print (\"The original list 1 is : \" + str(list1))\n",
    "print (\"The original list 2 is : \" + str(list2))\n",
    "  \n",
    "\n",
    "res = [i + j for i, j in zip(list1,list2)]\n",
    "  \n",
    "# printing result \n",
    "print (\"The list after element concatenation is : \" +  str(res))"
   ]
  },
  {
   "cell_type": "markdown",
   "id": "bbbfca8d",
   "metadata": {},
   "source": [
    "\n",
    "17. WAP to convert two lists into a dictionary. Take the elements from first list as keys\n",
    "and elements from second list as values."
   ]
  },
  {
   "cell_type": "code",
   "execution_count": null,
   "id": "b4bd0953",
   "metadata": {},
   "outputs": [],
   "source": [
    "list1=[]\n",
    "n = int(input(\"Enter number of elements : \"))\n",
    "for x in range(0,n):\n",
    "   a=str(input())\n",
    "   list1.append(a)\n",
    "list2=[]\n",
    "n = int(input(\"Enter number of elements : \"))\n",
    "for x in range(0,n):\n",
    "   a=int(input())\n",
    "   list2.append(a)  \n",
    "res = {}\n",
    "for key in list1:\n",
    "    for value in list2:\n",
    "        res[key] = value\n",
    "        list2.remove(value)\n",
    "        break\n",
    " \n",
    "# Printing resultant dictionary\n",
    "print(\"Resultant dictionary is : \" + str(res))"
   ]
  },
  {
   "cell_type": "markdown",
   "id": "234d5cfa",
   "metadata": {},
   "source": [
    "18. Input and store the marks of 10 students in a list. Print max and min marks."
   ]
  },
  {
   "cell_type": "code",
   "execution_count": null,
   "id": "c98e1ab8",
   "metadata": {},
   "outputs": [],
   "source": [
    "lst=[]\n",
    "\n",
    "print('enter marks of 10 students')\n",
    "for x in range(0,10):\n",
    "   a=int(input())\n",
    "   lst.append(a) \n",
    "print('max',max(lst))\n",
    "print('min',min(lst))\n",
    "    "
   ]
  },
  {
   "cell_type": "markdown",
   "id": "9008e3e2",
   "metadata": {},
   "source": [
    "19. WAP to save the username and password of 10 users in a dictionary.\n"
   ]
  },
  {
   "cell_type": "code",
   "execution_count": 11,
   "id": "3c3380bb",
   "metadata": {},
   "outputs": [
    {
     "name": "stdout",
     "output_type": "stream",
     "text": [
      "Enter user name: \n",
      "Enter password: d1\n",
      "Enter user name: 1d\n",
      "Enter password: 12\n",
      "Enter user name: 1d1\n",
      "Enter password: d1\n",
      "Enter user name: ds\n",
      "Enter password: 1d\n",
      "Enter user name: 21d\n",
      "Enter password: 12d\n",
      "Enter user name: 12d\n",
      "Enter password: d1\n",
      "Enter user name: d\n",
      "Enter password: d\n",
      "Enter user name: 12d\n",
      "Enter password: 12d\n",
      "Enter user name: 12d\n",
      "Enter password: 12d\n",
      "Enter user name: 12d\n",
      "Enter password: 12d\n",
      "{'': 'd1', '1d': '12', '1d1': 'd1', 'ds': '1d', '21d': '12d', '12d': '12d', 'd': 'd'}\n"
     ]
    }
   ],
   "source": [
    "lst = {}\n",
    "for i in range(10):\n",
    "    username = input(\"Enter user name: \")\n",
    "    password = input(\"Enter password: \")\n",
    "\n",
    "    lst[username] = password\n",
    "print(lst)\n"
   ]
  },
  {
   "cell_type": "markdown",
   "id": "f0a0f6ac",
   "metadata": {},
   "source": [
    "20. Write a Python program to find the sum of the first n positive integers. Take n as input from the user."
   ]
  },
  {
   "cell_type": "code",
   "execution_count": 10,
   "id": "5547a22e",
   "metadata": {},
   "outputs": [
    {
     "name": "stdout",
     "output_type": "stream",
     "text": [
      "Enter a number: 2\n",
      "The sum of first n natural numbers is 3\n"
     ]
    }
   ],
   "source": [
    "n=int(input(\"Enter a number: \"))\n",
    "sum1 = 0\n",
    "while(n > 0):\n",
    "    sum1=sum1+n\n",
    "    n=n-1\n",
    "print(\"The sum of first n natural numbers is\",sum1)"
   ]
  },
  {
   "cell_type": "code",
   "execution_count": null,
   "id": "8ff11160",
   "metadata": {},
   "outputs": [],
   "source": [
    "\n"
   ]
  }
 ],
 "metadata": {
  "kernelspec": {
   "display_name": "Python 3 (ipykernel)",
   "language": "python",
   "name": "python3"
  },
  "language_info": {
   "codemirror_mode": {
    "name": "ipython",
    "version": 3
   },
   "file_extension": ".py",
   "mimetype": "text/x-python",
   "name": "python",
   "nbconvert_exporter": "python",
   "pygments_lexer": "ipython3",
   "version": "3.9.13"
  }
 },
 "nbformat": 4,
 "nbformat_minor": 5
}
